{
 "cells": [
  {
   "cell_type": "markdown",
   "metadata": {
    "colab_type": "text",
    "id": "cf5CmXQCZyF1"
   },
   "source": [
    "# Guided Capstone Step 6. Documentation"
   ]
  },
  {
   "cell_type": "markdown",
   "metadata": {
    "colab_type": "text",
    "id": "JbZXsVevfr9M"
   },
   "source": [
    "**The Data Science Method**  \n",
    "\n",
    "\n",
    "1.   Problem Identification \n",
    "\n",
    "2.   Data Wrangling \n",
    "  \n",
    "3.   Exploratory Data Analysis \n",
    " \n",
    "4.   Pre-processing and Training Data Development\n",
    "\n",
    "5.  Modeling\n",
    "\n",
    "6.   **Documentation**\n",
    "  * Review the Results\n",
    "  * Finalize Code \n",
    "  * Finalize Documentation\n",
    "  * Create a Project Report \n",
    "  * Create a Slide Deck for the Executive Audience"
   ]
  },
  {
   "cell_type": "markdown",
   "metadata": {
    "colab_type": "text",
    "id": "D-oGciwnGUYk"
   },
   "source": [
    "In this guided capstone we are going to revisit many of the actions we took in the previous guided capstone steps. This gives you the opportunity to practice the code you wrote to solve the questions in step 4 and 5. "
   ]
  },
  {
   "cell_type": "markdown",
   "metadata": {
    "colab_type": "text",
    "id": "K8xfkAqqZyF2"
   },
   "source": [
    "**<font color='teal'> Start by loading the necessary packages and printing out our current working directory just to confirm we are in the correct project directory. </font>**"
   ]
  },
  {
   "cell_type": "code",
   "execution_count": 509,
   "metadata": {
    "colab": {},
    "colab_type": "code",
    "id": "ry6WPL5eZyF3"
   },
   "outputs": [
    {
     "data": {
      "text/plain": [
       "'/Users/atousachaharsoughshirazi/Desktop/Bootcamp/Unit_6/Step_2/data'"
      ]
     },
     "execution_count": 509,
     "metadata": {},
     "output_type": "execute_result"
    }
   ],
   "source": [
    "import pandas as pd\n",
    "import numpy as np\n",
    "import matplotlib.pyplot as plt\n",
    "import os\n",
    "import datetime\n",
    "import seaborn as sns\n",
    "\n",
    "path=\"/Users/atousachaharsoughshirazi/desktop/Bootcamp/Unit_6/Step_2/data\"\n",
    "os.chdir(path) \n",
    "os.getcwd()"
   ]
  },
  {
   "cell_type": "markdown",
   "metadata": {
    "colab_type": "text",
    "id": "0HTP9cF2GUYs"
   },
   "source": [
    "## Fit Models with Training Dataset"
   ]
  },
  {
   "cell_type": "markdown",
   "metadata": {
    "colab_type": "text",
    "id": "A2FmSbtCGUYt"
   },
   "source": [
    "**<font color='teal'> Using sklearn fit the model you chose in Guided Capstone 5 on your training dataset. This includes: creating dummy features for states if you need them, scaling the data,and creating train and test splits before fitting the chosen model.Also, remember to generate a model performance score(MAE, or explained variance) based on the testing hold-out data set.</font>**"
   ]
  },
  {
   "cell_type": "markdown",
   "metadata": {
    "colab_type": "text",
    "id": "ReRSy1yFGUYu"
   },
   "source": [
    "#### Best Model "
   ]
  },
  {
   "cell_type": "code",
   "execution_count": 510,
   "metadata": {
    "colab": {},
    "colab_type": "code",
    "id": "YRhPGbqPGUYv"
   },
   "outputs": [],
   "source": [
    "df=pd.read_csv('dfno.csv')\n",
    "df.drop(df.columns[0], axis=1, inplace=True)"
   ]
  },
  {
   "cell_type": "code",
   "execution_count": 511,
   "metadata": {},
   "outputs": [],
   "source": [
    "dfo=df['state'].values\n",
    "df = pd.concat([df.drop(columns='state', axis=1), pd.get_dummies(dfo)], axis=1)"
   ]
  },
  {
   "cell_type": "code",
   "execution_count": 512,
   "metadata": {},
   "outputs": [],
   "source": [
    "# first we import the preprocessing package from the sklearn library\n",
    "from sklearn import preprocessing\n",
    "\n",
    "# Declare an explanatory variable, called X,and assign it the result of dropping 'Name' and 'AdultWeekend' from the df\n",
    "X = df.drop(['Name','AdultWeekend'], axis=1)\n",
    "X2=X.iloc[:,:-31]\n",
    "# Declare a response variable, called y, and assign it the AdultWeekend column of the df \n",
    "y = df['AdultWeekend']\n",
    "\n",
    "# Here we use the StandardScaler() method of the preprocessing package, and then call the fit() method with parameter X \n",
    "scaler = preprocessing.StandardScaler().fit(X2)\n",
    "\n",
    "# Declare a variable called X_scaled, and assign it the result of calling the transform() method with parameter X \n",
    "X2_scaled=scaler.transform(X2) "
   ]
  },
  {
   "cell_type": "code",
   "execution_count": 513,
   "metadata": {},
   "outputs": [
    {
     "data": {
      "text/plain": [
       "array([[ 7.09532520e-02,  4.70169190e-01, -9.28672132e-03,\n",
       "         0.00000000e+00,  0.00000000e+00,  0.00000000e+00,\n",
       "        -4.44261658e-01, -8.12920144e-01, -3.11444522e-01,\n",
       "        -5.28270544e-01, -2.31748763e-01, -9.10472580e-01,\n",
       "         3.29418107e-01, -9.52575038e-01,  1.35739479e+00,\n",
       "        -4.26483752e-01, -4.08113774e-01, -1.54078074e+00,\n",
       "        -2.09509173e+00,  3.80079588e-01, -9.88011606e-02,\n",
       "        -1.88676233e+00, -1.04653369e+00],\n",
       "       [-6.31395888e-01, -5.88354162e-01, -5.84716767e-01,\n",
       "         0.00000000e+00,  0.00000000e+00,  0.00000000e+00,\n",
       "        -4.44261658e-01, -8.12920144e-01, -3.11444522e-01,\n",
       "         1.32067636e-01,  4.83945947e-01, -1.54744352e-01,\n",
       "        -8.32768973e-01, -9.52575038e-01,  5.00522328e-01,\n",
       "        -1.42089974e-01,  1.17899535e+00,  2.74275105e-01,\n",
       "        -7.95027031e-01, -3.55874864e-01,  4.00449273e-01,\n",
       "         3.99399308e-04, -2.37655976e-01],\n",
       "       [-4.24746280e-01, -5.88354162e-01, -3.50500193e-01,\n",
       "         0.00000000e+00,  0.00000000e+00,  0.00000000e+00,\n",
       "         1.11065415e+00,  5.41946763e-01, -3.11444522e-01,\n",
       "         1.32067636e-01, -2.31748763e-01,  2.23119763e-01,\n",
       "         1.63391381e-01, -1.71165827e-01, -3.56350135e-01,\n",
       "        -8.22175998e-02,  1.40776783e+00,  6.77620848e-01,\n",
       "        -1.47927161e+00, -5.03065754e-01, -1.61862064e-01,\n",
       "         6.29453309e-01,  1.40032140e+00],\n",
       "       [-6.49238476e-01, -6.58922385e-01, -5.90232071e-01,\n",
       "         0.00000000e+00,  0.00000000e+00,  0.00000000e+00,\n",
       "         2.66556995e+00,  1.89681367e+00,  1.24577809e+00,\n",
       "         1.32067636e-01,  4.83945947e-01,  2.11244033e+00,\n",
       "         8.27498284e-01,  1.39165259e+00,  7.20860961e-02,\n",
       "        -1.83252231e-01,  1.02171426e+00,  6.77620848e-01,\n",
       "         2.60664600e-02, -7.87634809e-01,  4.68746973e-01,\n",
       "         4.19768673e-01, -1.04653369e+00],\n",
       "       [-7.72514538e-01, -9.05911167e-01, -6.78476934e-01,\n",
       "         0.00000000e+00,  0.00000000e+00,  0.00000000e+00,\n",
       "        -4.44261658e-01, -8.12920144e-01,  4.67166784e-01,\n",
       "        -5.28270544e-01, -2.31748763e-01, -5.32608466e-01,\n",
       "        -9.43453457e-01, -9.52575038e-01, -1.21322260e+00,\n",
       "        -7.78233951e-01, -1.25171232e+00, -2.26680307e+00,\n",
       "        -1.54769606e+00,  1.34761437e-01, -9.88011606e-02,\n",
       "        -2.85131166e+00, -7.22982606e-01],\n",
       "       [-6.28151782e-01, -1.07351070e+00, -4.79925992e-01,\n",
       "         0.00000000e+00,  0.00000000e+00,  0.00000000e+00,\n",
       "        -4.44261658e-01, -8.12920144e-01,  1.24577809e+00,\n",
       "        -1.18860872e+00, -2.31748763e-01, -5.32608466e-01,\n",
       "        -5.00715522e-01,  6.10243384e-01, -1.21322260e+00,\n",
       "        -5.38744454e-01, -3.36622372e-01, -1.62144989e+00,\n",
       "         5.73462121e-01,  3.80079588e-01,  4.00449273e-01,\n",
       "        -3.77032947e-01,  5.71221739e-01],\n",
       "       [-4.80544918e-01, -2.35513045e-01, -4.87279731e-01,\n",
       "         0.00000000e+00,  0.00000000e+00,  0.00000000e+00,\n",
       "        -4.44261658e-01, -8.12920144e-01, -1.09005583e+00,\n",
       "        -5.28270544e-01,  4.83945947e-01, -9.10472580e-01,\n",
       "        -1.13319829e-01, -9.52575038e-01, -7.07259811e-02,\n",
       "        -5.20034337e-01, -6.22587980e-01,  7.26022337e-02,\n",
       "         5.05037663e-01, -2.57747604e-01, -1.36001924e+00,\n",
       "        -2.09285237e-01,  6.56731669e-02],\n",
       "       [-4.63443841e-03,  2.07736048e+00, -4.46834168e-01,\n",
       "         0.00000000e+00,  0.00000000e+00,  0.00000000e+00,\n",
       "         2.66556995e+00,  5.41946763e-01, -1.09005583e+00,\n",
       "        -1.18860872e+00,  4.83945947e-01, -1.54744352e-01,\n",
       "         9.93525009e-01,  6.10243384e-01,  1.64301894e+00,\n",
       "        -1.72026161e-01,  3.06800245e-01,  2.74275105e-01,\n",
       "         3.68188748e-01,  7.92214081e-01,  1.35159963e+00,\n",
       "         6.29453309e-01, -1.04653369e+00],\n",
       "       [-5.55483787e-01, -6.14817246e-01, -5.01987208e-01,\n",
       "         0.00000000e+00,  0.00000000e+00,  0.00000000e+00,\n",
       "        -4.44261658e-01,  5.41946763e-01,  4.67166784e-01,\n",
       "        -5.28270544e-01, -9.47443474e-01, -5.32608466e-01,\n",
       "         1.08049139e-01, -1.71165827e-01,  2.14898173e-01,\n",
       "        -8.97016465e-02,  1.37917127e+00,  5.96951699e-01,\n",
       "         1.73667790e+00,  3.66341772e-02, -7.92471102e-01,\n",
       "         8.39137946e-01,  1.98675774e+00],\n",
       "       [-6.26529728e-01, -2.35513045e-01, -6.52738849e-01,\n",
       "         0.00000000e+00,  0.00000000e+00,  0.00000000e+00,\n",
       "         1.11065415e+00,  5.41946763e-01, -1.09005583e+00,\n",
       "         1.45274400e+00,  1.19964066e+00,  1.35671211e+00,\n",
       "        -5.00715522e-01, -1.71165827e-01,  7.86146482e-01,\n",
       "        -3.70353401e-01,  3.06800245e-01, -1.29070638e-01,\n",
       "        -8.63451489e-01, -8.46511166e-01,  2.16503358e-01,\n",
       "         5.03642527e-01,  1.38009945e+00],\n",
       "       [-6.75191331e-01, -1.01176350e+00, -5.53463378e-01,\n",
       "         0.00000000e+00,  0.00000000e+00,  0.00000000e+00,\n",
       "        -4.44261658e-01,  1.89681367e+00, -1.09005583e+00,\n",
       "        -5.28270544e-01,  1.91533537e+00,  6.00983877e-01,\n",
       "        -4.45373280e-01,  1.39165259e+00, -7.84786367e-01,\n",
       "        -5.16292314e-01, -2.50832690e-01,  1.08096659e+00,\n",
       "         8.47159951e-01, -8.46511166e-01,  1.53442455e-01,\n",
       "         4.19768673e-01,  6.92553396e-01],\n",
       "       [-9.62294791e-01, -1.03822659e+00, -8.65997269e-01,\n",
       "         0.00000000e+00,  0.00000000e+00,  0.00000000e+00,\n",
       "        -4.44261658e-01, -8.12920144e-01, -1.09005583e+00,\n",
       "         1.32067636e-01, -2.31748763e-01, -9.10472580e-01,\n",
       "        -1.05413794e+00, -9.52575038e-01, -1.21322260e+00,\n",
       "        -7.25845624e-01, -1.05153639e+00, -1.29070638e-01,\n",
       "        -1.79206913e-01, -9.44638426e-01,  4.00449273e-01,\n",
       "        -4.18969874e-01, -4.39875405e-01],\n",
       "       [-6.18419461e-01, -8.08879860e-01, -5.24048424e-01,\n",
       "         0.00000000e+00,  0.00000000e+00,  0.00000000e+00,\n",
       "        -4.44261658e-01, -8.12920144e-01, -3.11444522e-01,\n",
       "        -1.18860872e+00,  1.19964066e+00, -5.32608466e-01,\n",
       "        -1.10948018e+00, -1.71165827e-01, -7.84786367e-01,\n",
       "        -6.88425390e-01, -1.05153639e+00, -2.46847595e+00,\n",
       "         9.84008866e-01, -9.25012974e-01, -1.17083652e+00,\n",
       "        -2.85131166e+00, -4.39875405e-01],\n",
       "       [ 1.15772906e+00,  1.87896296e-01,  1.32909370e+00,\n",
       "         0.00000000e+00,  0.00000000e+00,  0.00000000e+00,\n",
       "        -4.44261658e-01, -8.12920144e-01, -3.11444522e-01,\n",
       "        -5.28270544e-01, -2.31748763e-01, -9.10472580e-01,\n",
       "         1.71297415e+00, -1.71165827e-01,  7.86146482e-01,\n",
       "         1.03290537e+00, -7.65570784e-01, -1.37944244e+00,\n",
       "        -3.84480285e-01,  6.25397739e-01, -4.14105680e-01,\n",
       "        -1.21577149e+00, -1.04653369e+00],\n",
       "       [-6.24258853e-01, -4.11933603e-01, -6.13396348e-01,\n",
       "         0.00000000e+00,  0.00000000e+00,  0.00000000e+00,\n",
       "        -4.44261658e-01, -8.12920144e-01, -3.11444522e-01,\n",
       "         1.32067636e-01, -9.47443474e-01, -9.10472580e-01,\n",
       "         1.63391381e-01,  6.10243384e-01, -4.99162213e-01,\n",
       "        -2.05704372e-01,  5.64169292e-01,  1.44397776e+00,\n",
       "         2.31339833e-01,  7.23524999e-01,  4.00449273e-01,\n",
       "         1.04882258e+00,  7.53219225e-01],\n",
       "       [ 1.06040585e+00,  2.14616450e+00,  7.62855832e-01,\n",
       "         0.00000000e+00,  0.00000000e+00,  0.00000000e+00,\n",
       "         2.66556995e+00,  5.41946763e-01, -3.11444522e-01,\n",
       "         1.32067636e-01, -2.31748763e-01,  6.00983877e-01,\n",
       "         7.16813800e-01, -1.71165827e-01,  2.07145518e+00,\n",
       "         4.40821048e+00, -1.05153639e+00,  1.80698893e+00,\n",
       "         7.10311036e-01,  2.58794294e+00,  1.09935601e+00,\n",
       "         1.42625493e+00,  7.73441168e-01],\n",
       "       [ 1.46851450e+00,  1.30111002e+00,  1.40152803e+00,\n",
       "         0.00000000e+00,  0.00000000e+00,  0.00000000e+00,\n",
       "        -4.44261658e-01,  5.41946763e-01, -3.11444522e-01,\n",
       "        -5.28270544e-01, -1.66313818e+00, -1.28833669e+00,\n",
       "        -2.63534485e-03, -1.71165827e-01, -7.07259811e-02,\n",
       "         6.58703033e-01,  2.09408529e+00,  7.17955422e-01,\n",
       "         1.59982898e+00,  1.60667034e+00,  4.68746973e-01,\n",
       "         5.45579454e-01,  1.17788003e+00],\n",
       "       [ 6.87333560e-01, -1.64944821e-01,  8.21685741e-01,\n",
       "         0.00000000e+00,  0.00000000e+00,  0.00000000e+00,\n",
       "        -4.44261658e-01,  5.41946763e-01, -3.11444522e-01,\n",
       "        -5.28270544e-01, -2.31748763e-01, -5.32608466e-01,\n",
       "        -7.77426731e-01, -1.71165827e-01, -7.07259811e-02,\n",
       "        -6.51005156e-01, -7.65570784e-01,  1.52464691e+00,\n",
       "         9.44909176e-02, -8.46511166e-01, -5.40227487e-01,\n",
       "        -8.34744553e-02, -3.54365475e-02],\n",
       "       [-7.27097042e-01, -6.32459301e-01, -6.83992238e-01,\n",
       "         0.00000000e+00,  0.00000000e+00,  0.00000000e+00,\n",
       "        -4.44261658e-01,  1.89681367e+00,  2.02438940e+00,\n",
       "        -1.18860872e+00,  4.83945947e-01,  9.78847991e-01,\n",
       "        -5.56057764e-01,  6.10243384e-01, -1.21322260e+00,\n",
       "        -3.17965074e-01,  5.06976170e-01, -6.53420103e-01,\n",
       "         2.31339833e-01, -8.46511166e-01, -7.29410198e-01,\n",
       "         8.42732540e-02,  1.76431637e+00],\n",
       "       [-6.58970797e-01, -3.23723324e-01, -6.71123196e-01,\n",
       "         0.00000000e+00,  0.00000000e+00,  0.00000000e+00,\n",
       "        -4.44261658e-01, -8.12920144e-01, -1.09005583e+00,\n",
       "         1.45274400e+00, -2.31748763e-01, -1.54744352e-01,\n",
       "        -7.77426731e-01, -9.52575038e-01,  6.43334405e-01,\n",
       "        -7.40813717e-01, -1.10872951e+00, -1.13743499e+00,\n",
       "        -9.31875946e-01, -6.60069371e-01, -9.88011606e-02,\n",
       "        -1.46739306e+00, -5.20763177e-01],\n",
       "       [-4.15662781e-01,  6.46589748e-01, -6.71123196e-01,\n",
       "         0.00000000e+00,  0.00000000e+00,  0.00000000e+00,\n",
       "         1.11065415e+00,  5.41946763e-01,  4.67166784e-01,\n",
       "        -5.28270544e-01, -2.31748763e-01,  2.23119763e-01,\n",
       "         1.38092070e+00,  1.39165259e+00, -7.07259811e-02,\n",
       "        -8.97016465e-02,  1.26478503e+00,  1.53271382e-01,\n",
       "         1.73667790e+00,  1.34761437e-01,  4.00449273e-01,\n",
       "         7.55264091e-01, -1.04653369e+00],\n",
       "       [ 1.61190402e+00,  2.32258505e+00,  1.35115492e+00,\n",
       "         0.00000000e+00,  0.00000000e+00,  0.00000000e+00,\n",
       "        -4.44261658e-01,  1.89681367e+00,  4.67166784e-01,\n",
       "        -1.18860872e+00, -9.47443474e-01, -5.32608466e-01,\n",
       "         7.16813800e-01, -9.52575038e-01, -6.41974290e-01,\n",
       "         8.45804202e-01,  1.20922600e-01,  1.00029744e+00,\n",
       "        -4.52904743e-01,  1.80292486e+00,  1.79302595e+00,\n",
       "         7.97201018e-01, -1.04653369e+00],\n",
       "       [-4.07552513e-01,  6.46589748e-01, -5.88393636e-01,\n",
       "         0.00000000e+00,  0.00000000e+00,  0.00000000e+00,\n",
       "        -4.44261658e-01, -8.12920144e-01,  4.67166784e-01,\n",
       "         2.77342035e+00, -2.31748763e-01,  1.35671211e+00,\n",
       "         9.93525009e-01,  6.10243384e-01,  1.35739479e+00,\n",
       "        -8.97016465e-02,  6.64257254e-01, -8.87360634e-02,\n",
       "         1.62915375e-01,  1.34761437e-01, -7.92471102e-01,\n",
       "        -4.18969874e-01,  3.69002310e-01],\n",
       "       [ 2.34456239e-01,  2.09323833e+00, -1.62244484e-01,\n",
       "         0.00000000e+00,  0.00000000e+00,  0.00000000e+00,\n",
       "         2.66556995e+00, -8.12920144e-01,  4.67166784e-01,\n",
       "         7.92405816e-01,  1.19964066e+00,  1.73457622e+00,\n",
       "         1.65763191e+00,  1.39165259e+00,  1.21458271e+00,\n",
       "         1.53529874e-01,  1.66513688e+00,  1.56498148e+00,\n",
       "        -1.79206913e-01,  1.15135985e-01,  1.72996505e+00,\n",
       "         1.34238107e+00, -1.04653369e+00],\n",
       "       [ 2.85277491e+00,  1.57279768e+00,  2.91382437e+00,\n",
       "         0.00000000e+00,  0.00000000e+00,  0.00000000e+00,\n",
       "        -4.44261658e-01,  5.41946763e-01,  4.67166784e-01,\n",
       "         1.32067636e-01, -2.31748763e-01,  2.23119763e-01,\n",
       "         2.81981899e+00, -9.52575038e-01,  2.78551556e+00,\n",
       "         1.63162912e+00,  2.45154230e+00,  1.53271382e-01,\n",
       "         1.12085778e+00,  8.70715890e-01,  1.79302595e+00,\n",
       "         8.39137946e-01, -1.04653369e+00],\n",
       "       [ 2.39924876e+00,  2.19379805e+00,  2.27037225e+00,\n",
       "         0.00000000e+00,  0.00000000e+00,  0.00000000e+00,\n",
       "         2.66556995e+00, -8.12920144e-01, -1.09005583e+00,\n",
       "         7.92405816e-01, -2.31748763e-01,  2.23119763e-01,\n",
       "         2.70913451e+00,  6.10243384e-01,  2.78551556e+00,\n",
       "         1.25742678e+00,  1.80811968e+00, -8.87360634e-02,\n",
       "        -2.47631370e-01,  7.23524999e-01,  1.60384324e+00,\n",
       "        -3.77032947e-01, -3.54365475e-02],\n",
       "       [-1.39913695e-01,  1.17585142e+00, -3.95357998e-01,\n",
       "         0.00000000e+00,  0.00000000e+00,  0.00000000e+00,\n",
       "        -4.44261658e-01, -8.12920144e-01, -1.09005583e+00,\n",
       "         7.92405816e-01,  4.83945947e-01, -1.54744352e-01,\n",
       "         9.93525009e-01, -9.52575038e-01,  7.86146482e-01,\n",
       "        -7.09915296e-02, -1.22148167e-01, -1.09710042e+00,\n",
       "         1.62915375e-01,  1.34761437e-01,  1.41466053e+00,\n",
       "        -1.25770842e+00, -1.04653369e+00]])"
      ]
     },
     "execution_count": 513,
     "metadata": {},
     "output_type": "execute_result"
    }
   ],
   "source": [
    "# Import the train_test_split function from the sklearn.model_selection utility.  \n",
    "from sklearn.model_selection import train_test_split\n",
    "\n",
    "# Get the 1-dimensional flattened array of our response variable y by calling the ravel() function on y\n",
    "y = y.ravel()\n",
    "\n",
    "# Call the train_test_split() function with the first two parameters set to X_scaled and y \n",
    "# Declare four variables, X_train, X_test, y_train and y_test separated by commas \n",
    "X2_train, X2_test, y_train, y_test = train_test_split(X2_scaled, y, test_size=0.25, random_state=1)\n",
    "X2_test"
   ]
  },
  {
   "cell_type": "code",
   "execution_count": 514,
   "metadata": {},
   "outputs": [],
   "source": [
    "from sklearn import linear_model\n",
    "from sklearn.metrics import explained_variance_score,mean_absolute_error\n",
    "lm = linear_model.LinearRegression()\n",
    "model = lm.fit(X2_train,y_train)\n"
   ]
  },
  {
   "cell_type": "code",
   "execution_count": 515,
   "metadata": {},
   "outputs": [
    {
     "data": {
      "text/plain": [
       "array([61.12925998, 61.260308  , 58.74406795, 73.55959699, 53.60307313,\n",
       "       56.03755352, 43.80043147, 81.52666927, 52.83191099, 62.37028746,\n",
       "       59.09140031, 56.84865941, 39.65297553, 51.54418395, 65.41578391,\n",
       "       70.22588662, 63.48478845, 57.60368566, 50.57100921, 58.9385423 ,\n",
       "       69.61047789, 78.8663824 , 63.88875524, 91.10461842, 80.46099694,\n",
       "       84.47177317, 74.93060903])"
      ]
     },
     "execution_count": 515,
     "metadata": {},
     "output_type": "execute_result"
    }
   ],
   "source": [
    "y_pred=model.predict(X2_test)\n",
    "y_pred"
   ]
  },
  {
   "cell_type": "code",
   "execution_count": 516,
   "metadata": {},
   "outputs": [],
   "source": [
    "EVS=explained_variance_score(y_test, y_pred)"
   ]
  },
  {
   "cell_type": "code",
   "execution_count": 517,
   "metadata": {},
   "outputs": [],
   "source": [
    "MAE=mean_absolute_error(y_test, y_pred)"
   ]
  },
  {
   "cell_type": "markdown",
   "metadata": {
    "colab_type": "text",
    "id": "GGizyeLZGUYz"
   },
   "source": [
    "## Review the results "
   ]
  },
  {
   "cell_type": "markdown",
   "metadata": {
    "colab_type": "text",
    "id": "4Lhu-qisGUY0"
   },
   "source": [
    "**<font color='teal'> Now, let's predict the Big Mountain Weekend price with our model in order to provide a recommendation to our managers on how to price the `AdultWeekend` lift ticket. First we need to find the row for Big Mountain resort in our data using string contains or string matching.</font>**"
   ]
  },
  {
   "cell_type": "code",
   "execution_count": 518,
   "metadata": {},
   "outputs": [],
   "source": [
    "df1=pd.read_csv('orig_updated_ski_data.csv')\n",
    "#df1.drop(df.columns[0], axis=1, inplace=True)"
   ]
  },
  {
   "cell_type": "code",
   "execution_count": 519,
   "metadata": {
    "colab": {},
    "colab_type": "code",
    "id": "YXnx_IuEGUY1"
   },
   "outputs": [
    {
     "data": {
      "text/html": [
       "<div>\n",
       "<style scoped>\n",
       "    .dataframe tbody tr th:only-of-type {\n",
       "        vertical-align: middle;\n",
       "    }\n",
       "\n",
       "    .dataframe tbody tr th {\n",
       "        vertical-align: top;\n",
       "    }\n",
       "\n",
       "    .dataframe thead th {\n",
       "        text-align: right;\n",
       "    }\n",
       "</style>\n",
       "<table border=\"1\" class=\"dataframe\">\n",
       "  <thead>\n",
       "    <tr style=\"text-align: right;\">\n",
       "      <th></th>\n",
       "      <th>Name</th>\n",
       "      <th>Region</th>\n",
       "      <th>state</th>\n",
       "      <th>summit_elev</th>\n",
       "      <th>vertical_drop</th>\n",
       "      <th>base_elev</th>\n",
       "      <th>trams</th>\n",
       "      <th>fastEight</th>\n",
       "      <th>fastSixes</th>\n",
       "      <th>fastQuads</th>\n",
       "      <th>...</th>\n",
       "      <th>LongestRun_mi</th>\n",
       "      <th>SkiableTerrain_ac</th>\n",
       "      <th>Snow Making_ac</th>\n",
       "      <th>daysOpenLastYear</th>\n",
       "      <th>yearsOpen</th>\n",
       "      <th>averageSnowfall</th>\n",
       "      <th>AdultWeekday</th>\n",
       "      <th>AdultWeekend</th>\n",
       "      <th>projectedDaysOpen</th>\n",
       "      <th>NightSkiing_ac</th>\n",
       "    </tr>\n",
       "  </thead>\n",
       "  <tbody>\n",
       "    <tr>\n",
       "      <th>151</th>\n",
       "      <td>Big Mountain Resort</td>\n",
       "      <td>Montana</td>\n",
       "      <td>Montana</td>\n",
       "      <td>6817</td>\n",
       "      <td>2353</td>\n",
       "      <td>4464</td>\n",
       "      <td>0</td>\n",
       "      <td>0.0</td>\n",
       "      <td>0</td>\n",
       "      <td>3</td>\n",
       "      <td>...</td>\n",
       "      <td>3.3</td>\n",
       "      <td>3000.0</td>\n",
       "      <td>600.0</td>\n",
       "      <td>123.0</td>\n",
       "      <td>72.0</td>\n",
       "      <td>333.0</td>\n",
       "      <td>81.0</td>\n",
       "      <td>81.0</td>\n",
       "      <td>123.0</td>\n",
       "      <td>600.0</td>\n",
       "    </tr>\n",
       "  </tbody>\n",
       "</table>\n",
       "<p>1 rows × 27 columns</p>\n",
       "</div>"
      ],
      "text/plain": [
       "                    Name   Region    state  summit_elev  vertical_drop  \\\n",
       "151  Big Mountain Resort  Montana  Montana         6817           2353   \n",
       "\n",
       "     base_elev  trams  fastEight  fastSixes  fastQuads  ...  LongestRun_mi  \\\n",
       "151       4464      0        0.0          0          3  ...            3.3   \n",
       "\n",
       "     SkiableTerrain_ac  Snow Making_ac  daysOpenLastYear  yearsOpen  \\\n",
       "151             3000.0           600.0             123.0       72.0   \n",
       "\n",
       "     averageSnowfall  AdultWeekday  AdultWeekend  projectedDaysOpen  \\\n",
       "151            333.0          81.0          81.0              123.0   \n",
       "\n",
       "     NightSkiing_ac  \n",
       "151           600.0  \n",
       "\n",
       "[1 rows x 27 columns]"
      ]
     },
     "execution_count": 519,
     "metadata": {},
     "output_type": "execute_result"
    }
   ],
   "source": [
    "df1=df1[df1['Name'].str.contains('Big Mountain')]\n",
    "df1\n"
   ]
  },
  {
   "cell_type": "markdown",
   "metadata": {
    "colab_type": "text",
    "id": "83-jO9hPGUY4"
   },
   "source": [
    "**<font color='teal'> Prepare the Big Mountain resort data row as you did in the model fitting stage.</font>**"
   ]
  },
  {
   "cell_type": "code",
   "execution_count": 520,
   "metadata": {
    "colab": {},
    "colab_type": "code",
    "id": "oWH_q9YOGUY5"
   },
   "outputs": [],
   "source": [
    "ac=df1.drop(['Name','Region', 'state','AdultWeekend'], axis=1)\n"
   ]
  },
  {
   "cell_type": "code",
   "execution_count": null,
   "metadata": {},
   "outputs": [],
   "source": [
    "\n"
   ]
  },
  {
   "cell_type": "markdown",
   "metadata": {
    "colab_type": "text",
    "id": "2BCFqZYBGUY9"
   },
   "source": [
    "**<font color='teal'> Predict the Big Mountain resort `Adult Weekend` price and print it out.</font>** This is our expected price to present to management. Based on our model given the characteristics of the resort in comparison to other ski resorts and their unique characteristics."
   ]
  },
  {
   "cell_type": "code",
   "execution_count": null,
   "metadata": {
    "colab": {},
    "colab_type": "code",
    "id": "XebWxxTMGUY-"
   },
   "outputs": [],
   "source": []
  },
  {
   "cell_type": "code",
   "execution_count": 521,
   "metadata": {},
   "outputs": [
    {
     "data": {
      "text/plain": [
       "array([72.46198532])"
      ]
     },
     "execution_count": 521,
     "metadata": {},
     "output_type": "execute_result"
    }
   ],
   "source": [
    "\n",
    "y_pred=model.predict(X_scaled)\n",
    "y_pred\n"
   ]
  },
  {
   "cell_type": "markdown",
   "metadata": {
    "colab_type": "text",
    "id": "_5BvguMLGUZB"
   },
   "source": [
    "**<font color='teal'> Print the Big Mountain resort actual `Adult Weekend` price.</font>**"
   ]
  },
  {
   "cell_type": "code",
   "execution_count": 522,
   "metadata": {},
   "outputs": [
    {
     "data": {
      "text/plain": [
       "151    81.0\n",
       "Name: AdultWeekend, dtype: float64"
      ]
     },
     "execution_count": 522,
     "metadata": {},
     "output_type": "execute_result"
    }
   ],
   "source": [
    "df1[df1['Name'].str.contains('Big Mountain')].AdultWeekend"
   ]
  },
  {
   "cell_type": "code",
   "execution_count": null,
   "metadata": {
    "colab": {},
    "colab_type": "code",
    "id": "WyxTHtL2GUZC"
   },
   "outputs": [],
   "source": []
  },
  {
   "cell_type": "markdown",
   "metadata": {
    "colab_type": "text",
    "id": "O0Yli8MXGUZH"
   },
   "source": [
    "**<font color='teal'> As part of reviewing the results it is an important step to generate figures to visualize the data story. We can use the clusters we added to our data frame to create scatter plots for visualizing the Adult Weekend values compared to other characteristics. Run the example below to get you started and build two or three more figures to include in your data story telling.</font>**"
   ]
  },
  {
   "cell_type": "code",
   "execution_count": 523,
   "metadata": {
    "colab": {},
    "colab_type": "code",
    "id": "xWtr873fGUZI"
   },
   "outputs": [
    {
     "data": {
      "image/png": "[encoded data removed]",
      "text/plain": [
       "<Figure size 432x288 with 1 Axes>"
      ]
     },
     "metadata": {
      "needs_background": "light"
     },
     "output_type": "display_data"
    }
   ],
   "source": [
    "\n",
    "plt.scatter(df['summit_elev'], df['vertical_drop'], c=df['clusters'], s=50, cmap='viridis', label ='clusters')\n",
    "plt.scatter(ac['summit_elev'], ac['vertical_drop'], c='black', s=100)\n",
    "plt.xlabel('summit_elev')\n",
    "plt.ylabel('vertical_drop')\n",
    "plt.title('summit_elev by vertical_drop by cluster')\n",
    "plt.savefig('/Users/atousachaharsoughshirazi/desktop/Bootcamp/Unit_6/Step_2/figures/fig1.png',bbox_inches='tight')"
   ]
  },
  {
   "cell_type": "code",
   "execution_count": null,
   "metadata": {
    "colab": {},
    "colab_type": "code",
    "id": "530JtuJxGUZL"
   },
   "outputs": [],
   "source": []
  },
  {
   "cell_type": "code",
   "execution_count": null,
   "metadata": {
    "colab": {},
    "colab_type": "code",
    "id": "kGvf4kTwGUZR"
   },
   "outputs": [],
   "source": []
  },
  {
   "cell_type": "code",
   "execution_count": null,
   "metadata": {
    "colab": {},
    "colab_type": "code",
    "id": "OYZB84hYGUZU"
   },
   "outputs": [],
   "source": []
  },
  {
   "cell_type": "markdown",
   "metadata": {
    "colab_type": "text",
    "id": "giLKE2WMGUZh"
   },
   "source": [
    "## Finalize Code"
   ]
  },
  {
   "cell_type": "markdown",
   "metadata": {
    "colab_type": "text",
    "id": "pps_ASHoGUZi"
   },
   "source": [
    " Making sure our code is well organized and easy to follow is an important step. This is the time where you need to review the notebooks and Python scripts you've created and clean them up so they are easy to follow and succinct in nature. Addtionally, we will also save our final model as a callable object using Pickle for future use in a data pipeline. Pickle is a module that serializes (and de-serializes) Python objects so that they can become executable objects like functions. It's used extensively in production environments where machine learning models are deployed on an industrial scale!**<font color='teal'> Run the example code below to save out your callable model. Notice that we save it in the models folder we created in our previous guided capstone step.</font>** "
   ]
  },
  {
   "cell_type": "code",
   "execution_count": 524,
   "metadata": {
    "colab": {},
    "colab_type": "code",
    "id": "X_h0tkt_GUZj"
   },
   "outputs": [
    {
     "data": {
      "text/plain": [
       "['/Users/atousachaharsoughshirazi/desktop/Bootcamp/Unit_6/Step_2/models/regression_model_adultweekend.joblib']"
      ]
     },
     "execution_count": 524,
     "metadata": {},
     "output_type": "execute_result"
    }
   ],
   "source": [
    "import pickle\n",
    "s = pickle.dumps(model)\n",
    "from joblib import dump, load\n",
    "dump(model, '/Users/atousachaharsoughshirazi/desktop/Bootcamp/Unit_6/Step_2/models/regression_model_adultweekend.joblib') "
   ]
  },
  {
   "cell_type": "markdown",
   "metadata": {
    "colab_type": "text",
    "id": "MTVrVlerGUZn"
   },
   "source": [
    "## Finalize Documentation"
   ]
  },
  {
   "cell_type": "markdown",
   "metadata": {
    "colab_type": "text",
    "id": "thEMyu-DGUZo"
   },
   "source": [
    "For model documentation, we want to save the model performance metrics as well as the features included in the final model. You could also save the model perfomance metrics and coefficients fo the other models you tried in case you want to refer to them later. **<font color='teal'> Create a dataframe containing the coefficients and the model performance metrics and save it out as a csv file, then upload it to your github repository.</font>** "
   ]
  },
  {
   "cell_type": "code",
   "execution_count": 525,
   "metadata": {
    "colab": {},
    "colab_type": "code",
    "id": "278tnHLlGUZp"
   },
   "outputs": [
    {
     "data": {
      "text/plain": [
       "array([ 6.44422084e+00,  8.09370803e-01, -6.82968518e+00,  6.43929354e-15,\n",
       "        2.66453526e-15, -8.88178420e-15,  6.03460148e-01,  5.08043652e-01,\n",
       "        1.53449413e+00,  8.34173789e-01, -1.19111316e+00,  8.81504432e-01,\n",
       "        1.59701032e+00,  9.09823612e-01,  2.20405277e+00, -3.27976534e+00,\n",
       "       -6.80451926e-02,  3.25959401e+00, -2.29238537e-01,  3.40197409e-01,\n",
       "        9.30610098e+00, -2.08882868e+00, -8.32997562e-02])"
      ]
     },
     "execution_count": 525,
     "metadata": {},
     "output_type": "execute_result"
    }
   ],
   "source": [
    "lm.coef_"
   ]
  },
  {
   "cell_type": "code",
   "execution_count": 538,
   "metadata": {
    "colab": {},
    "colab_type": "code",
    "id": "4CEOoBLFGUZr"
   },
   "outputs": [
    {
     "data": {
      "text/html": [
       "<div>\n",
       "<style scoped>\n",
       "    .dataframe tbody tr th:only-of-type {\n",
       "        vertical-align: middle;\n",
       "    }\n",
       "\n",
       "    .dataframe tbody tr th {\n",
       "        vertical-align: top;\n",
       "    }\n",
       "\n",
       "    .dataframe thead th {\n",
       "        text-align: right;\n",
       "    }\n",
       "</style>\n",
       "<table border=\"1\" class=\"dataframe\">\n",
       "  <thead>\n",
       "    <tr style=\"text-align: right;\">\n",
       "      <th></th>\n",
       "      <th>summit_elev</th>\n",
       "      <th>vertical_drop</th>\n",
       "      <th>base_elev</th>\n",
       "      <th>trams</th>\n",
       "      <th>fastEight</th>\n",
       "      <th>fastSixes</th>\n",
       "      <th>fastQuads</th>\n",
       "      <th>quad</th>\n",
       "      <th>triple</th>\n",
       "      <th>double</th>\n",
       "      <th>...</th>\n",
       "      <th>TerrainParks</th>\n",
       "      <th>LongestRun_mi</th>\n",
       "      <th>SkiableTerrain_ac</th>\n",
       "      <th>Snow Making_ac</th>\n",
       "      <th>daysOpenLastYear</th>\n",
       "      <th>yearsOpen</th>\n",
       "      <th>averageSnowfall</th>\n",
       "      <th>AdultWeekday</th>\n",
       "      <th>projectedDaysOpen</th>\n",
       "      <th>NightSkiing_ac</th>\n",
       "    </tr>\n",
       "  </thead>\n",
       "  <tbody>\n",
       "    <tr>\n",
       "      <th>Coefficient</th>\n",
       "      <td>6.444221</td>\n",
       "      <td>0.809371</td>\n",
       "      <td>-6.829685</td>\n",
       "      <td>6.439294e-15</td>\n",
       "      <td>2.664535e-15</td>\n",
       "      <td>-8.881784e-15</td>\n",
       "      <td>0.60346</td>\n",
       "      <td>0.508044</td>\n",
       "      <td>1.534494</td>\n",
       "      <td>0.834174</td>\n",
       "      <td>...</td>\n",
       "      <td>0.909824</td>\n",
       "      <td>2.204053</td>\n",
       "      <td>-3.279765</td>\n",
       "      <td>-0.068045</td>\n",
       "      <td>3.259594</td>\n",
       "      <td>-0.229239</td>\n",
       "      <td>0.340197</td>\n",
       "      <td>9.306101</td>\n",
       "      <td>-2.088829</td>\n",
       "      <td>-0.0833</td>\n",
       "    </tr>\n",
       "  </tbody>\n",
       "</table>\n",
       "<p>1 rows × 23 columns</p>\n",
       "</div>"
      ],
      "text/plain": [
       "             summit_elev  vertical_drop  base_elev         trams  \\\n",
       "Coefficient     6.444221       0.809371  -6.829685  6.439294e-15   \n",
       "\n",
       "                fastEight     fastSixes  fastQuads      quad    triple  \\\n",
       "Coefficient  2.664535e-15 -8.881784e-15    0.60346  0.508044  1.534494   \n",
       "\n",
       "               double  ...  TerrainParks  LongestRun_mi  SkiableTerrain_ac  \\\n",
       "Coefficient  0.834174  ...      0.909824       2.204053          -3.279765   \n",
       "\n",
       "             Snow Making_ac  daysOpenLastYear  yearsOpen  averageSnowfall  \\\n",
       "Coefficient       -0.068045          3.259594  -0.229239         0.340197   \n",
       "\n",
       "             AdultWeekday  projectedDaysOpen  NightSkiing_ac  \n",
       "Coefficient      9.306101          -2.088829         -0.0833  \n",
       "\n",
       "[1 rows x 23 columns]"
      ]
     },
     "execution_count": 538,
     "metadata": {},
     "output_type": "execute_result"
    }
   ],
   "source": [
    "coeff_df = pd.DataFrame(lm.coef_, X2.columns, columns=['Coefficient'])\n",
    "c1=coeff_df.T\n",
    "c1"
   ]
  },
  {
   "cell_type": "code",
   "execution_count": 539,
   "metadata": {},
   "outputs": [
    {
     "data": {
      "text/html": [
       "<div>\n",
       "<style scoped>\n",
       "    .dataframe tbody tr th:only-of-type {\n",
       "        vertical-align: middle;\n",
       "    }\n",
       "\n",
       "    .dataframe tbody tr th {\n",
       "        vertical-align: top;\n",
       "    }\n",
       "\n",
       "    .dataframe thead th {\n",
       "        text-align: right;\n",
       "    }\n",
       "</style>\n",
       "<table border=\"1\" class=\"dataframe\">\n",
       "  <thead>\n",
       "    <tr style=\"text-align: right;\">\n",
       "      <th></th>\n",
       "      <th>0</th>\n",
       "    </tr>\n",
       "  </thead>\n",
       "  <tbody>\n",
       "    <tr>\n",
       "      <th>explained_variance_score</th>\n",
       "      <td>0.745856</td>\n",
       "    </tr>\n",
       "    <tr>\n",
       "      <th>mean_absolute_error</th>\n",
       "      <td>5.667883</td>\n",
       "    </tr>\n",
       "  </tbody>\n",
       "</table>\n",
       "</div>"
      ],
      "text/plain": [
       "                                 0\n",
       "explained_variance_score  0.745856\n",
       "mean_absolute_error       5.667883"
      ]
     },
     "execution_count": 539,
     "metadata": {},
     "output_type": "execute_result"
    }
   ],
   "source": [
    "data={'explained_variance_score':[EVS], 'mean_absolute_error': [MAE]}\n",
    "c2=pd.DataFrame(data).T\n",
    "c2"
   ]
  },
  {
   "cell_type": "code",
   "execution_count": 545,
   "metadata": {},
   "outputs": [],
   "source": [
    "final=pd.concat([c1, c2])"
   ]
  },
  {
   "cell_type": "code",
   "execution_count": 546,
   "metadata": {},
   "outputs": [],
   "source": [
    "final.to_csv('Guidedcapstone_final.csv')"
   ]
  },
  {
   "cell_type": "code",
   "execution_count": null,
   "metadata": {},
   "outputs": [],
   "source": []
  }
 ],
 "metadata": {
  "colab": {
   "collapsed_sections": [
    "RtEspslPZyGY",
    "s0DokMkAZyGc",
    "2iuitnKcZyHS",
    "iAWQxougZyHW",
    "ThMTimlBZyHZ",
    "QwZ-LkjXZyHt",
    "srtXEA3N4-Y9",
    "ChVreJupZyIA",
    "zDgSSsq1ZyID",
    "I3GYKWfi5Llg",
    "pmMvrhbI-viE",
    "ZXDPkW3UZyIX",
    "Dnc_vHQLZyId",
    "daJxuJ-dZyIg",
    "mAQ-oHiPZyIn",
    "hnGOsp3mZyIp"
   ],
   "name": "GuidedCapstoneStep6.ipynb",
   "provenance": [],
   "toc_visible": true
  },
  "kernelspec": {
   "display_name": "Python 3",
   "language": "python",
   "name": "python3"
  },
  "language_info": {
   "codemirror_mode": {
    "name": "ipython",
    "version": 3
   },
   "file_extension": ".py",
   "mimetype": "text/x-python",
   "name": "python",
   "nbconvert_exporter": "python",
   "pygments_lexer": "ipython3",
   "version": "3.7.6"
  },
  "toc": {
   "base_numbering": "0",
   "nav_menu": {},
   "number_sections": true,
   "sideBar": true,
   "skip_h1_title": false,
   "title_cell": "Table of Contents",
   "title_sidebar": "Contents",
   "toc_cell": true,
   "toc_position": {
    "height": "calc(100% - 180px)",
    "left": "10px",
    "top": "150px",
    "width": "288px"
   },
   "toc_section_display": true,
   "toc_window_display": true
  }
 },
 "nbformat": 4,
 "nbformat_minor": 1
}
