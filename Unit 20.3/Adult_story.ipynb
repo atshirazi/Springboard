{
 "cells": [
  {
   "cell_type": "code",
   "execution_count": 14,
   "metadata": {},
   "outputs": [],
   "source": [
    "import pandas as pd\n",
    "import matplotlib.pyplot as plt\n",
    "import seaborn as sns"
   ]
  },
  {
   "cell_type": "code",
   "execution_count": 4,
   "metadata": {},
   "outputs": [],
   "source": [
    "df=pd.read_csv('Adult_story/adult.csv', sep=',', header=0)"
   ]
  },
  {
   "cell_type": "markdown",
   "metadata": {},
   "source": [
    "# Introduction"
   ]
  },
  {
   "cell_type": "markdown",
   "metadata": {},
   "source": [
    "This data set contains information about adults'income. The age, workclass, education, marital status, occupation, relationship, race, gender, the hours per week that they work, and their country of origin are given as well as their income bracket (>50K or <=50K). In this project, we would like to investigate if each of these attributes affects is related to the income. Particularly, two important trends to investigate are how the income is related to race or gender."
   ]
  },
  {
   "cell_type": "code",
   "execution_count": 5,
   "metadata": {},
   "outputs": [
    {
     "data": {
      "text/html": [
       "<div>\n",
       "<style scoped>\n",
       "    .dataframe tbody tr th:only-of-type {\n",
       "        vertical-align: middle;\n",
       "    }\n",
       "\n",
       "    .dataframe tbody tr th {\n",
       "        vertical-align: top;\n",
       "    }\n",
       "\n",
       "    .dataframe thead th {\n",
       "        text-align: right;\n",
       "    }\n",
       "</style>\n",
       "<table border=\"1\" class=\"dataframe\">\n",
       "  <thead>\n",
       "    <tr style=\"text-align: right;\">\n",
       "      <th></th>\n",
       "      <th>age</th>\n",
       "      <th>workclass</th>\n",
       "      <th>fnlwgt</th>\n",
       "      <th>education</th>\n",
       "      <th>educational-num</th>\n",
       "      <th>marital-status</th>\n",
       "      <th>occupation</th>\n",
       "      <th>relationship</th>\n",
       "      <th>race</th>\n",
       "      <th>gender</th>\n",
       "      <th>capital-gain</th>\n",
       "      <th>capital-loss</th>\n",
       "      <th>hours-per-week</th>\n",
       "      <th>native-country</th>\n",
       "      <th>income</th>\n",
       "    </tr>\n",
       "  </thead>\n",
       "  <tbody>\n",
       "    <tr>\n",
       "      <th>0</th>\n",
       "      <td>25</td>\n",
       "      <td>Private</td>\n",
       "      <td>226802</td>\n",
       "      <td>11th</td>\n",
       "      <td>7</td>\n",
       "      <td>Never-married</td>\n",
       "      <td>Machine-op-inspct</td>\n",
       "      <td>Own-child</td>\n",
       "      <td>Black</td>\n",
       "      <td>Male</td>\n",
       "      <td>0</td>\n",
       "      <td>0</td>\n",
       "      <td>40</td>\n",
       "      <td>United-States</td>\n",
       "      <td>&lt;=50K</td>\n",
       "    </tr>\n",
       "    <tr>\n",
       "      <th>1</th>\n",
       "      <td>38</td>\n",
       "      <td>Private</td>\n",
       "      <td>89814</td>\n",
       "      <td>HS-grad</td>\n",
       "      <td>9</td>\n",
       "      <td>Married-civ-spouse</td>\n",
       "      <td>Farming-fishing</td>\n",
       "      <td>Husband</td>\n",
       "      <td>White</td>\n",
       "      <td>Male</td>\n",
       "      <td>0</td>\n",
       "      <td>0</td>\n",
       "      <td>50</td>\n",
       "      <td>United-States</td>\n",
       "      <td>&lt;=50K</td>\n",
       "    </tr>\n",
       "    <tr>\n",
       "      <th>2</th>\n",
       "      <td>28</td>\n",
       "      <td>Local-gov</td>\n",
       "      <td>336951</td>\n",
       "      <td>Assoc-acdm</td>\n",
       "      <td>12</td>\n",
       "      <td>Married-civ-spouse</td>\n",
       "      <td>Protective-serv</td>\n",
       "      <td>Husband</td>\n",
       "      <td>White</td>\n",
       "      <td>Male</td>\n",
       "      <td>0</td>\n",
       "      <td>0</td>\n",
       "      <td>40</td>\n",
       "      <td>United-States</td>\n",
       "      <td>&gt;50K</td>\n",
       "    </tr>\n",
       "    <tr>\n",
       "      <th>3</th>\n",
       "      <td>44</td>\n",
       "      <td>Private</td>\n",
       "      <td>160323</td>\n",
       "      <td>Some-college</td>\n",
       "      <td>10</td>\n",
       "      <td>Married-civ-spouse</td>\n",
       "      <td>Machine-op-inspct</td>\n",
       "      <td>Husband</td>\n",
       "      <td>Black</td>\n",
       "      <td>Male</td>\n",
       "      <td>7688</td>\n",
       "      <td>0</td>\n",
       "      <td>40</td>\n",
       "      <td>United-States</td>\n",
       "      <td>&gt;50K</td>\n",
       "    </tr>\n",
       "    <tr>\n",
       "      <th>4</th>\n",
       "      <td>18</td>\n",
       "      <td>?</td>\n",
       "      <td>103497</td>\n",
       "      <td>Some-college</td>\n",
       "      <td>10</td>\n",
       "      <td>Never-married</td>\n",
       "      <td>?</td>\n",
       "      <td>Own-child</td>\n",
       "      <td>White</td>\n",
       "      <td>Female</td>\n",
       "      <td>0</td>\n",
       "      <td>0</td>\n",
       "      <td>30</td>\n",
       "      <td>United-States</td>\n",
       "      <td>&lt;=50K</td>\n",
       "    </tr>\n",
       "  </tbody>\n",
       "</table>\n",
       "</div>"
      ],
      "text/plain": [
       "   age  workclass  fnlwgt     education  educational-num      marital-status  \\\n",
       "0   25    Private  226802          11th                7       Never-married   \n",
       "1   38    Private   89814       HS-grad                9  Married-civ-spouse   \n",
       "2   28  Local-gov  336951    Assoc-acdm               12  Married-civ-spouse   \n",
       "3   44    Private  160323  Some-college               10  Married-civ-spouse   \n",
       "4   18          ?  103497  Some-college               10       Never-married   \n",
       "\n",
       "          occupation relationship   race  gender  capital-gain  capital-loss  \\\n",
       "0  Machine-op-inspct    Own-child  Black    Male             0             0   \n",
       "1    Farming-fishing      Husband  White    Male             0             0   \n",
       "2    Protective-serv      Husband  White    Male             0             0   \n",
       "3  Machine-op-inspct      Husband  Black    Male          7688             0   \n",
       "4                  ?    Own-child  White  Female             0             0   \n",
       "\n",
       "   hours-per-week native-country income  \n",
       "0              40  United-States  <=50K  \n",
       "1              50  United-States  <=50K  \n",
       "2              40  United-States   >50K  \n",
       "3              40  United-States   >50K  \n",
       "4              30  United-States  <=50K  "
      ]
     },
     "execution_count": 5,
     "metadata": {},
     "output_type": "execute_result"
    }
   ],
   "source": [
    "df.head()"
   ]
  },
  {
   "cell_type": "code",
   "execution_count": 9,
   "metadata": {},
   "outputs": [
    {
     "data": {
      "text/plain": [
       "(48842, 15)"
      ]
     },
     "execution_count": 9,
     "metadata": {},
     "output_type": "execute_result"
    }
   ],
   "source": [
    "df.shape"
   ]
  },
  {
   "cell_type": "code",
   "execution_count": 6,
   "metadata": {},
   "outputs": [
    {
     "name": "stdout",
     "output_type": "stream",
     "text": [
      "<class 'pandas.core.frame.DataFrame'>\n",
      "RangeIndex: 48842 entries, 0 to 48841\n",
      "Data columns (total 15 columns):\n",
      " #   Column           Non-Null Count  Dtype \n",
      "---  ------           --------------  ----- \n",
      " 0   age              48842 non-null  int64 \n",
      " 1   workclass        48842 non-null  object\n",
      " 2   fnlwgt           48842 non-null  int64 \n",
      " 3   education        48842 non-null  object\n",
      " 4   educational-num  48842 non-null  int64 \n",
      " 5   marital-status   48842 non-null  object\n",
      " 6   occupation       48842 non-null  object\n",
      " 7   relationship     48842 non-null  object\n",
      " 8   race             48842 non-null  object\n",
      " 9   gender           48842 non-null  object\n",
      " 10  capital-gain     48842 non-null  int64 \n",
      " 11  capital-loss     48842 non-null  int64 \n",
      " 12  hours-per-week   48842 non-null  int64 \n",
      " 13  native-country   48842 non-null  object\n",
      " 14  income           48842 non-null  object\n",
      "dtypes: int64(6), object(9)\n",
      "memory usage: 5.6+ MB\n"
     ]
    }
   ],
   "source": [
    "df.info()"
   ]
  },
  {
   "cell_type": "code",
   "execution_count": 37,
   "metadata": {},
   "outputs": [
    {
     "data": {
      "text/plain": [
       "HS-grad         15784\n",
       "Some-college    10878\n",
       "Bachelors        8025\n",
       "Masters          2657\n",
       "Assoc-voc        2061\n",
       "11th             1812\n",
       "Assoc-acdm       1601\n",
       "10th             1389\n",
       "7th-8th           955\n",
       "Prof-school       834\n",
       "9th               756\n",
       "12th              657\n",
       "Doctorate         594\n",
       "5th-6th           509\n",
       "1st-4th           247\n",
       "Preschool          83\n",
       "Name: education, dtype: int64"
      ]
     },
     "execution_count": 37,
     "metadata": {},
     "output_type": "execute_result"
    }
   ],
   "source": [
    "df.education.value_counts()"
   ]
  },
  {
   "cell_type": "code",
   "execution_count": 10,
   "metadata": {},
   "outputs": [
    {
     "data": {
      "text/html": [
       "<style  type=\"text/css\" >\n",
       "#T_3e01241e_8b65_11eb_8e53_3e22fbb35f1frow0_col0,#T_3e01241e_8b65_11eb_8e53_3e22fbb35f1frow1_col1,#T_3e01241e_8b65_11eb_8e53_3e22fbb35f1frow2_col2,#T_3e01241e_8b65_11eb_8e53_3e22fbb35f1frow3_col3,#T_3e01241e_8b65_11eb_8e53_3e22fbb35f1frow4_col4,#T_3e01241e_8b65_11eb_8e53_3e22fbb35f1frow5_col5{\n",
       "            background-color:  #b40426;\n",
       "            color:  #f1f1f1;\n",
       "        }#T_3e01241e_8b65_11eb_8e53_3e22fbb35f1frow0_col1,#T_3e01241e_8b65_11eb_8e53_3e22fbb35f1frow1_col0,#T_3e01241e_8b65_11eb_8e53_3e22fbb35f1frow1_col2,#T_3e01241e_8b65_11eb_8e53_3e22fbb35f1frow1_col5,#T_3e01241e_8b65_11eb_8e53_3e22fbb35f1frow3_col4,#T_3e01241e_8b65_11eb_8e53_3e22fbb35f1frow4_col3{\n",
       "            background-color:  #3b4cc0;\n",
       "            color:  #f1f1f1;\n",
       "        }#T_3e01241e_8b65_11eb_8e53_3e22fbb35f1frow0_col2{\n",
       "            background-color:  #4f69d9;\n",
       "            color:  #000000;\n",
       "        }#T_3e01241e_8b65_11eb_8e53_3e22fbb35f1frow0_col3,#T_3e01241e_8b65_11eb_8e53_3e22fbb35f1frow2_col4,#T_3e01241e_8b65_11eb_8e53_3e22fbb35f1frow5_col3{\n",
       "            background-color:  #5b7ae5;\n",
       "            color:  #000000;\n",
       "        }#T_3e01241e_8b65_11eb_8e53_3e22fbb35f1frow0_col4,#T_3e01241e_8b65_11eb_8e53_3e22fbb35f1frow3_col5{\n",
       "            background-color:  #5572df;\n",
       "            color:  #000000;\n",
       "        }#T_3e01241e_8b65_11eb_8e53_3e22fbb35f1frow0_col5{\n",
       "            background-color:  #536edd;\n",
       "            color:  #000000;\n",
       "        }#T_3e01241e_8b65_11eb_8e53_3e22fbb35f1frow1_col3,#T_3e01241e_8b65_11eb_8e53_3e22fbb35f1frow1_col4{\n",
       "            background-color:  #4358cb;\n",
       "            color:  #f1f1f1;\n",
       "        }#T_3e01241e_8b65_11eb_8e53_3e22fbb35f1frow2_col0{\n",
       "            background-color:  #5a78e4;\n",
       "            color:  #000000;\n",
       "        }#T_3e01241e_8b65_11eb_8e53_3e22fbb35f1frow2_col1{\n",
       "            background-color:  #455cce;\n",
       "            color:  #f1f1f1;\n",
       "        }#T_3e01241e_8b65_11eb_8e53_3e22fbb35f1frow2_col3{\n",
       "            background-color:  #6b8df0;\n",
       "            color:  #000000;\n",
       "        }#T_3e01241e_8b65_11eb_8e53_3e22fbb35f1frow2_col5{\n",
       "            background-color:  #6a8bef;\n",
       "            color:  #000000;\n",
       "        }#T_3e01241e_8b65_11eb_8e53_3e22fbb35f1frow3_col0{\n",
       "            background-color:  #688aef;\n",
       "            color:  #000000;\n",
       "        }#T_3e01241e_8b65_11eb_8e53_3e22fbb35f1frow3_col1,#T_3e01241e_8b65_11eb_8e53_3e22fbb35f1frow4_col1{\n",
       "            background-color:  #506bda;\n",
       "            color:  #000000;\n",
       "        }#T_3e01241e_8b65_11eb_8e53_3e22fbb35f1frow3_col2{\n",
       "            background-color:  #6e90f2;\n",
       "            color:  #000000;\n",
       "        }#T_3e01241e_8b65_11eb_8e53_3e22fbb35f1frow4_col0{\n",
       "            background-color:  #6384eb;\n",
       "            color:  #000000;\n",
       "        }#T_3e01241e_8b65_11eb_8e53_3e22fbb35f1frow4_col2{\n",
       "            background-color:  #5e7de7;\n",
       "            color:  #000000;\n",
       "        }#T_3e01241e_8b65_11eb_8e53_3e22fbb35f1frow4_col5{\n",
       "            background-color:  #4c66d6;\n",
       "            color:  #000000;\n",
       "        }#T_3e01241e_8b65_11eb_8e53_3e22fbb35f1frow5_col0{\n",
       "            background-color:  #6687ed;\n",
       "            color:  #000000;\n",
       "        }#T_3e01241e_8b65_11eb_8e53_3e22fbb35f1frow5_col1{\n",
       "            background-color:  #4e68d8;\n",
       "            color:  #000000;\n",
       "        }#T_3e01241e_8b65_11eb_8e53_3e22fbb35f1frow5_col2{\n",
       "            background-color:  #7295f4;\n",
       "            color:  #000000;\n",
       "        }#T_3e01241e_8b65_11eb_8e53_3e22fbb35f1frow5_col4{\n",
       "            background-color:  #516ddb;\n",
       "            color:  #000000;\n",
       "        }</style><table id=\"T_3e01241e_8b65_11eb_8e53_3e22fbb35f1f\" ><thead>    <tr>        <th class=\"blank level0\" ></th>        <th class=\"col_heading level0 col0\" >age</th>        <th class=\"col_heading level0 col1\" >fnlwgt</th>        <th class=\"col_heading level0 col2\" >educational-num</th>        <th class=\"col_heading level0 col3\" >capital-gain</th>        <th class=\"col_heading level0 col4\" >capital-loss</th>        <th class=\"col_heading level0 col5\" >hours-per-week</th>    </tr></thead><tbody>\n",
       "                <tr>\n",
       "                        <th id=\"T_3e01241e_8b65_11eb_8e53_3e22fbb35f1flevel0_row0\" class=\"row_heading level0 row0\" >age</th>\n",
       "                        <td id=\"T_3e01241e_8b65_11eb_8e53_3e22fbb35f1frow0_col0\" class=\"data row0 col0\" >1.000000</td>\n",
       "                        <td id=\"T_3e01241e_8b65_11eb_8e53_3e22fbb35f1frow0_col1\" class=\"data row0 col1\" >-0.080000</td>\n",
       "                        <td id=\"T_3e01241e_8b65_11eb_8e53_3e22fbb35f1frow0_col2\" class=\"data row0 col2\" >0.030000</td>\n",
       "                        <td id=\"T_3e01241e_8b65_11eb_8e53_3e22fbb35f1frow0_col3\" class=\"data row0 col3\" >0.080000</td>\n",
       "                        <td id=\"T_3e01241e_8b65_11eb_8e53_3e22fbb35f1frow0_col4\" class=\"data row0 col4\" >0.060000</td>\n",
       "                        <td id=\"T_3e01241e_8b65_11eb_8e53_3e22fbb35f1frow0_col5\" class=\"data row0 col5\" >0.070000</td>\n",
       "            </tr>\n",
       "            <tr>\n",
       "                        <th id=\"T_3e01241e_8b65_11eb_8e53_3e22fbb35f1flevel0_row1\" class=\"row_heading level0 row1\" >fnlwgt</th>\n",
       "                        <td id=\"T_3e01241e_8b65_11eb_8e53_3e22fbb35f1frow1_col0\" class=\"data row1 col0\" >-0.080000</td>\n",
       "                        <td id=\"T_3e01241e_8b65_11eb_8e53_3e22fbb35f1frow1_col1\" class=\"data row1 col1\" >1.000000</td>\n",
       "                        <td id=\"T_3e01241e_8b65_11eb_8e53_3e22fbb35f1frow1_col2\" class=\"data row1 col2\" >-0.040000</td>\n",
       "                        <td id=\"T_3e01241e_8b65_11eb_8e53_3e22fbb35f1frow1_col3\" class=\"data row1 col3\" >-0.000000</td>\n",
       "                        <td id=\"T_3e01241e_8b65_11eb_8e53_3e22fbb35f1frow1_col4\" class=\"data row1 col4\" >-0.000000</td>\n",
       "                        <td id=\"T_3e01241e_8b65_11eb_8e53_3e22fbb35f1frow1_col5\" class=\"data row1 col5\" >-0.010000</td>\n",
       "            </tr>\n",
       "            <tr>\n",
       "                        <th id=\"T_3e01241e_8b65_11eb_8e53_3e22fbb35f1flevel0_row2\" class=\"row_heading level0 row2\" >educational-num</th>\n",
       "                        <td id=\"T_3e01241e_8b65_11eb_8e53_3e22fbb35f1frow2_col0\" class=\"data row2 col0\" >0.030000</td>\n",
       "                        <td id=\"T_3e01241e_8b65_11eb_8e53_3e22fbb35f1frow2_col1\" class=\"data row2 col1\" >-0.040000</td>\n",
       "                        <td id=\"T_3e01241e_8b65_11eb_8e53_3e22fbb35f1frow2_col2\" class=\"data row2 col2\" >1.000000</td>\n",
       "                        <td id=\"T_3e01241e_8b65_11eb_8e53_3e22fbb35f1frow2_col3\" class=\"data row2 col3\" >0.130000</td>\n",
       "                        <td id=\"T_3e01241e_8b65_11eb_8e53_3e22fbb35f1frow2_col4\" class=\"data row2 col4\" >0.080000</td>\n",
       "                        <td id=\"T_3e01241e_8b65_11eb_8e53_3e22fbb35f1frow2_col5\" class=\"data row2 col5\" >0.140000</td>\n",
       "            </tr>\n",
       "            <tr>\n",
       "                        <th id=\"T_3e01241e_8b65_11eb_8e53_3e22fbb35f1flevel0_row3\" class=\"row_heading level0 row3\" >capital-gain</th>\n",
       "                        <td id=\"T_3e01241e_8b65_11eb_8e53_3e22fbb35f1frow3_col0\" class=\"data row3 col0\" >0.080000</td>\n",
       "                        <td id=\"T_3e01241e_8b65_11eb_8e53_3e22fbb35f1frow3_col1\" class=\"data row3 col1\" >-0.000000</td>\n",
       "                        <td id=\"T_3e01241e_8b65_11eb_8e53_3e22fbb35f1frow3_col2\" class=\"data row3 col2\" >0.130000</td>\n",
       "                        <td id=\"T_3e01241e_8b65_11eb_8e53_3e22fbb35f1frow3_col3\" class=\"data row3 col3\" >1.000000</td>\n",
       "                        <td id=\"T_3e01241e_8b65_11eb_8e53_3e22fbb35f1frow3_col4\" class=\"data row3 col4\" >-0.030000</td>\n",
       "                        <td id=\"T_3e01241e_8b65_11eb_8e53_3e22fbb35f1frow3_col5\" class=\"data row3 col5\" >0.080000</td>\n",
       "            </tr>\n",
       "            <tr>\n",
       "                        <th id=\"T_3e01241e_8b65_11eb_8e53_3e22fbb35f1flevel0_row4\" class=\"row_heading level0 row4\" >capital-loss</th>\n",
       "                        <td id=\"T_3e01241e_8b65_11eb_8e53_3e22fbb35f1frow4_col0\" class=\"data row4 col0\" >0.060000</td>\n",
       "                        <td id=\"T_3e01241e_8b65_11eb_8e53_3e22fbb35f1frow4_col1\" class=\"data row4 col1\" >-0.000000</td>\n",
       "                        <td id=\"T_3e01241e_8b65_11eb_8e53_3e22fbb35f1frow4_col2\" class=\"data row4 col2\" >0.080000</td>\n",
       "                        <td id=\"T_3e01241e_8b65_11eb_8e53_3e22fbb35f1frow4_col3\" class=\"data row4 col3\" >-0.030000</td>\n",
       "                        <td id=\"T_3e01241e_8b65_11eb_8e53_3e22fbb35f1frow4_col4\" class=\"data row4 col4\" >1.000000</td>\n",
       "                        <td id=\"T_3e01241e_8b65_11eb_8e53_3e22fbb35f1frow4_col5\" class=\"data row4 col5\" >0.050000</td>\n",
       "            </tr>\n",
       "            <tr>\n",
       "                        <th id=\"T_3e01241e_8b65_11eb_8e53_3e22fbb35f1flevel0_row5\" class=\"row_heading level0 row5\" >hours-per-week</th>\n",
       "                        <td id=\"T_3e01241e_8b65_11eb_8e53_3e22fbb35f1frow5_col0\" class=\"data row5 col0\" >0.070000</td>\n",
       "                        <td id=\"T_3e01241e_8b65_11eb_8e53_3e22fbb35f1frow5_col1\" class=\"data row5 col1\" >-0.010000</td>\n",
       "                        <td id=\"T_3e01241e_8b65_11eb_8e53_3e22fbb35f1frow5_col2\" class=\"data row5 col2\" >0.140000</td>\n",
       "                        <td id=\"T_3e01241e_8b65_11eb_8e53_3e22fbb35f1frow5_col3\" class=\"data row5 col3\" >0.080000</td>\n",
       "                        <td id=\"T_3e01241e_8b65_11eb_8e53_3e22fbb35f1frow5_col4\" class=\"data row5 col4\" >0.050000</td>\n",
       "                        <td id=\"T_3e01241e_8b65_11eb_8e53_3e22fbb35f1frow5_col5\" class=\"data row5 col5\" >1.000000</td>\n",
       "            </tr>\n",
       "    </tbody></table>"
      ],
      "text/plain": [
       "<pandas.io.formats.style.Styler at 0x7fdcf7755c40>"
      ]
     },
     "execution_count": 10,
     "metadata": {},
     "output_type": "execute_result"
    }
   ],
   "source": [
    "#Calculate the correlation coefficients\n",
    "corr =df.corr()\n",
    "corr.round(2).style.background_gradient(cmap='coolwarm')"
   ]
  },
  {
   "cell_type": "markdown",
   "metadata": {},
   "source": [
    "# Income by gender"
   ]
  },
  {
   "cell_type": "code",
   "execution_count": 66,
   "metadata": {},
   "outputs": [],
   "source": [
    "df['income_new'] = df['income'].map({'>50K': 1, '<=50K': 0})\n",
    "#df.head()"
   ]
  },
  {
   "cell_type": "code",
   "execution_count": 70,
   "metadata": {},
   "outputs": [
    {
     "data": {
      "image/png": "[encoded data removed]",
      "text/plain": [
       "<Figure size 576x360 with 1 Axes>"
      ]
     },
     "metadata": {},
     "output_type": "display_data"
    }
   ],
   "source": [
    "sns_plot=sns.barplot(y='income_new', x='gender', data=df[['gender','income_new']],estimator=lambda x: sum(x==1)*100.0/len(x))\n",
    "sns_plot.set(ylabel='percentage of >50K income')\n",
    "plt.tight_layout()\n",
    "plt.show()"
   ]
  },
  {
   "cell_type": "markdown",
   "metadata": {},
   "source": [
    "The bar chart above clearly shows the gender pay gap. The percentage of high paid male employees is 30% and the percentage of high paid female employees is 10%."
   ]
  },
  {
   "cell_type": "markdown",
   "metadata": {},
   "source": [
    "# Income by race"
   ]
  },
  {
   "cell_type": "code",
   "execution_count": 72,
   "metadata": {},
   "outputs": [
    {
     "data": {
      "image/png": "[encoded data removed]",
      "text/plain": [
       "<Figure size 576x360 with 1 Axes>"
      ]
     },
     "metadata": {},
     "output_type": "display_data"
    }
   ],
   "source": [
    "sns_plot=sns.barplot(y='income_new', x='race', data=df[['race','income_new']],order=df[['race', 'income_new']].groupby('race').mean().sort_values(by='income_new', ascending=False).index.values, estimator=lambda x: sum(x==1)*100.0/len(x))\n",
    "#sns_plot.set_xticklabels(sns_plot.get_xticklabels(), rotation=40, ha=\"right\")\n",
    "sns_plot.set(ylabel='percentage of >50K income')\n",
    "plt.tight_layout()\n",
    "plt.show()"
   ]
  },
  {
   "cell_type": "markdown",
   "metadata": {},
   "source": [
    "The bar chart above shows that Asian-Pacific islanders and white employees have the highest percentage of high paid jobs."
   ]
  },
  {
   "cell_type": "markdown",
   "metadata": {},
   "source": [
    "# Income by work hours per week"
   ]
  },
  {
   "cell_type": "code",
   "execution_count": 21,
   "metadata": {},
   "outputs": [
    {
     "data": {
      "image/png": "[encoded data removed]",
      "text/plain": [
       "<Figure size 2520x360 with 1 Axes>"
      ]
     },
     "metadata": {},
     "output_type": "display_data"
    }
   ],
   "source": [
    "plt.figure()\n",
    "sns.set(rc={'axes.grid':False, \n",
    "            'axes.labelsize':13,\n",
    "            'figure.figsize':(35, 5),\n",
    "            'xtick.labelsize':13,\n",
    "            'ytick.labelsize':13})\n",
    "sns_plot=sns.countplot(x='hours-per-week', data=df)\n",
    "#plt.xticks([0,1], ['No', 'Yes'], fontsize=13)\n",
    "plt.xlabel(\"hours-per-week\")\n",
    "#sns_plot.set_xticklabels(sns_plot.get_xticklabels(), rotation=40, ha=\"right\")\n",
    "plt.show()"
   ]
  },
  {
   "cell_type": "code",
   "execution_count": 64,
   "metadata": {},
   "outputs": [
    {
     "data": {
      "text/plain": [
       "40    22803\n",
       "50     4246\n",
       "45     2717\n",
       "60     2177\n",
       "35     1937\n",
       "      ...  \n",
       "69        1\n",
       "94        1\n",
       "79        1\n",
       "82        1\n",
       "87        1\n",
       "Name: hours-per-week, Length: 96, dtype: int64"
      ]
     },
     "execution_count": 64,
     "metadata": {},
     "output_type": "execute_result"
    }
   ],
   "source": [
    "df['hours-per-week'].value_counts()"
   ]
  },
  {
   "cell_type": "code",
   "execution_count": 27,
   "metadata": {},
   "outputs": [
    {
     "data": {
      "image/png": "[encoded data removed]",
      "text/plain": [
       "<Figure size 576x360 with 1 Axes>"
      ]
     },
     "metadata": {},
     "output_type": "display_data"
    }
   ],
   "source": [
    "sns.set(rc={'axes.grid':False, \n",
    "            'axes.labelsize':13,\n",
    "            'figure.figsize':(8, 5),\n",
    "            'xtick.labelsize':13,\n",
    "            'ytick.labelsize':13})\n",
    "sns_plot=sns.barplot(x='income', y='hours-per-week', data=df[['hours-per-week','income']])\n",
    "#sns_plot.set_xticklabels(sns_plot.get_xticklabels(), rotation=40, ha=\"right\")\n",
    "#sns_plot.set(ylabel='percentage of positive outcome')\n",
    "plt.tight_layout()\n",
    "plt.show()\n",
    "fig = sns_plot.get_figure()"
   ]
  },
  {
   "cell_type": "markdown",
   "metadata": {},
   "source": [
    "The high paid employees (>50K) work more hours per week compared to low paid employees (<=50K)."
   ]
  },
  {
   "cell_type": "markdown",
   "metadata": {},
   "source": [
    "# Income by education"
   ]
  },
  {
   "cell_type": "code",
   "execution_count": 77,
   "metadata": {},
   "outputs": [
    {
     "data": {
      "image/png": "[encoded data removed]",
      "text/plain": [
       "<Figure size 576x360 with 1 Axes>"
      ]
     },
     "metadata": {},
     "output_type": "display_data"
    }
   ],
   "source": [
    "order=['Doctorate', 'Masters','Bachelors','Assoc-acdm','Assoc-voc','Some-college','Prof-school', 'HS-grad','12th', '11th','10th','9th','7th-8th','5th-6th','1st-4th','Preschool']\n",
    "sns_plot=sns.barplot(y='income_new', x='education', data=df[['education','income_new']],order=df[['education', 'income_new']].groupby('education').mean().sort_values(by='income_new', ascending=False).index.values, estimator=lambda x: sum(x==1)*100.0/len(x))\n",
    "sns_plot.set_xticklabels(sns_plot.get_xticklabels(), rotation=40, ha=\"right\")\n",
    "sns_plot.set(ylabel='percentage of >50K income')\n",
    "plt.tight_layout()\n",
    "plt.show()\n",
    "fig = sns_plot.get_figure()"
   ]
  },
  {
   "cell_type": "markdown",
   "metadata": {},
   "source": [
    "The chart above shows a clear trend of higher income for higher education."
   ]
  },
  {
   "cell_type": "code",
   "execution_count": null,
   "metadata": {},
   "outputs": [],
   "source": []
  }
 ],
 "metadata": {
  "kernelspec": {
   "display_name": "Python 3",
   "language": "python",
   "name": "python3"
  },
  "language_info": {
   "codemirror_mode": {
    "name": "ipython",
    "version": 3
   },
   "file_extension": ".py",
   "mimetype": "text/x-python",
   "name": "python",
   "nbconvert_exporter": "python",
   "pygments_lexer": "ipython3",
   "version": "3.8.5"
  },
  "toc": {
   "base_numbering": 1,
   "nav_menu": {},
   "number_sections": true,
   "sideBar": true,
   "skip_h1_title": false,
   "title_cell": "Table of Contents",
   "title_sidebar": "Contents",
   "toc_cell": false,
   "toc_position": {},
   "toc_section_display": true,
   "toc_window_display": false
  }
 },
 "nbformat": 4,
 "nbformat_minor": 4
}
